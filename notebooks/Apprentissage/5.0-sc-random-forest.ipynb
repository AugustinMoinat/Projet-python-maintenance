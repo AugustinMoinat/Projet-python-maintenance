{
 "cells": [
  {
   "cell_type": "markdown",
   "metadata": {},
   "source": [
    "# Classifieur Random Forest \n",
    "\n",
    "### Chargement des données et division en features/cibles"
   ]
  },
  {
   "cell_type": "code",
   "execution_count": 1,
   "metadata": {},
   "outputs": [],
   "source": [
    "import pandas as pd\n",
    "import re\n",
    "%matplotlib inline"
   ]
  },
  {
   "cell_type": "code",
   "execution_count": 2,
   "metadata": {},
   "outputs": [
    {
     "data": {
      "text/html": [
       "<div>\n",
       "<style scoped>\n",
       "    .dataframe tbody tr th:only-of-type {\n",
       "        vertical-align: middle;\n",
       "    }\n",
       "\n",
       "    .dataframe tbody tr th {\n",
       "        vertical-align: top;\n",
       "    }\n",
       "\n",
       "    .dataframe thead th {\n",
       "        text-align: right;\n",
       "    }\n",
       "</style>\n",
       "<table border=\"1\" class=\"dataframe\">\n",
       "  <thead>\n",
       "    <tr style=\"text-align: right;\">\n",
       "      <th></th>\n",
       "      <th>machineID</th>\n",
       "      <th>datetime</th>\n",
       "      <th>error1</th>\n",
       "      <th>error2</th>\n",
       "      <th>error3</th>\n",
       "      <th>error4</th>\n",
       "      <th>error5</th>\n",
       "      <th>total_error</th>\n",
       "      <th>comp1_delay</th>\n",
       "      <th>comp2_delay</th>\n",
       "      <th>...</th>\n",
       "      <th>age</th>\n",
       "      <th>model1</th>\n",
       "      <th>model2</th>\n",
       "      <th>model3</th>\n",
       "      <th>model4</th>\n",
       "      <th>comp1</th>\n",
       "      <th>comp2</th>\n",
       "      <th>comp3</th>\n",
       "      <th>comp4</th>\n",
       "      <th>total_failure</th>\n",
       "    </tr>\n",
       "  </thead>\n",
       "  <tbody>\n",
       "    <tr>\n",
       "      <th>0</th>\n",
       "      <td>1</td>\n",
       "      <td>2015-01-02 06:00:00</td>\n",
       "      <td>0.0</td>\n",
       "      <td>0.0</td>\n",
       "      <td>0.0</td>\n",
       "      <td>0.0</td>\n",
       "      <td>0.0</td>\n",
       "      <td>0.0</td>\n",
       "      <td>20.0</td>\n",
       "      <td>215.0</td>\n",
       "      <td>...</td>\n",
       "      <td>18</td>\n",
       "      <td>0</td>\n",
       "      <td>0</td>\n",
       "      <td>1</td>\n",
       "      <td>0</td>\n",
       "      <td>0.0</td>\n",
       "      <td>0.0</td>\n",
       "      <td>0.0</td>\n",
       "      <td>0.0</td>\n",
       "      <td>0.0</td>\n",
       "    </tr>\n",
       "    <tr>\n",
       "      <th>1</th>\n",
       "      <td>1</td>\n",
       "      <td>2015-01-03 06:00:00</td>\n",
       "      <td>0.0</td>\n",
       "      <td>0.0</td>\n",
       "      <td>0.0</td>\n",
       "      <td>0.0</td>\n",
       "      <td>0.0</td>\n",
       "      <td>0.0</td>\n",
       "      <td>21.0</td>\n",
       "      <td>216.0</td>\n",
       "      <td>...</td>\n",
       "      <td>18</td>\n",
       "      <td>0</td>\n",
       "      <td>0</td>\n",
       "      <td>1</td>\n",
       "      <td>0</td>\n",
       "      <td>0.0</td>\n",
       "      <td>0.0</td>\n",
       "      <td>0.0</td>\n",
       "      <td>0.0</td>\n",
       "      <td>0.0</td>\n",
       "    </tr>\n",
       "    <tr>\n",
       "      <th>2</th>\n",
       "      <td>1</td>\n",
       "      <td>2015-01-04 06:00:00</td>\n",
       "      <td>1.0</td>\n",
       "      <td>0.0</td>\n",
       "      <td>1.0</td>\n",
       "      <td>0.0</td>\n",
       "      <td>1.0</td>\n",
       "      <td>3.0</td>\n",
       "      <td>22.0</td>\n",
       "      <td>217.0</td>\n",
       "      <td>...</td>\n",
       "      <td>18</td>\n",
       "      <td>0</td>\n",
       "      <td>0</td>\n",
       "      <td>1</td>\n",
       "      <td>0</td>\n",
       "      <td>0.0</td>\n",
       "      <td>0.0</td>\n",
       "      <td>0.0</td>\n",
       "      <td>0.0</td>\n",
       "      <td>0.0</td>\n",
       "    </tr>\n",
       "    <tr>\n",
       "      <th>3</th>\n",
       "      <td>1</td>\n",
       "      <td>2015-01-05 06:00:00</td>\n",
       "      <td>0.0</td>\n",
       "      <td>0.0</td>\n",
       "      <td>0.0</td>\n",
       "      <td>0.0</td>\n",
       "      <td>0.0</td>\n",
       "      <td>0.0</td>\n",
       "      <td>23.0</td>\n",
       "      <td>218.0</td>\n",
       "      <td>...</td>\n",
       "      <td>18</td>\n",
       "      <td>0</td>\n",
       "      <td>0</td>\n",
       "      <td>1</td>\n",
       "      <td>0</td>\n",
       "      <td>0.0</td>\n",
       "      <td>0.0</td>\n",
       "      <td>0.0</td>\n",
       "      <td>1.0</td>\n",
       "      <td>1.0</td>\n",
       "    </tr>\n",
       "    <tr>\n",
       "      <th>4</th>\n",
       "      <td>1</td>\n",
       "      <td>2015-01-06 06:00:00</td>\n",
       "      <td>0.0</td>\n",
       "      <td>0.0</td>\n",
       "      <td>0.0</td>\n",
       "      <td>0.0</td>\n",
       "      <td>0.0</td>\n",
       "      <td>0.0</td>\n",
       "      <td>1.0</td>\n",
       "      <td>219.0</td>\n",
       "      <td>...</td>\n",
       "      <td>18</td>\n",
       "      <td>0</td>\n",
       "      <td>0</td>\n",
       "      <td>1</td>\n",
       "      <td>0</td>\n",
       "      <td>0.0</td>\n",
       "      <td>0.0</td>\n",
       "      <td>0.0</td>\n",
       "      <td>0.0</td>\n",
       "      <td>0.0</td>\n",
       "    </tr>\n",
       "  </tbody>\n",
       "</table>\n",
       "<p>5 rows × 31 columns</p>\n",
       "</div>"
      ],
      "text/plain": [
       "   machineID             datetime  error1  error2  error3  error4  error5  \\\n",
       "0          1  2015-01-02 06:00:00     0.0     0.0     0.0     0.0     0.0   \n",
       "1          1  2015-01-03 06:00:00     0.0     0.0     0.0     0.0     0.0   \n",
       "2          1  2015-01-04 06:00:00     1.0     0.0     1.0     0.0     1.0   \n",
       "3          1  2015-01-05 06:00:00     0.0     0.0     0.0     0.0     0.0   \n",
       "4          1  2015-01-06 06:00:00     0.0     0.0     0.0     0.0     0.0   \n",
       "\n",
       "   total_error  comp1_delay  comp2_delay  ...  age  model1  model2  model3  \\\n",
       "0          0.0         20.0        215.0  ...   18       0       0       1   \n",
       "1          0.0         21.0        216.0  ...   18       0       0       1   \n",
       "2          3.0         22.0        217.0  ...   18       0       0       1   \n",
       "3          0.0         23.0        218.0  ...   18       0       0       1   \n",
       "4          0.0          1.0        219.0  ...   18       0       0       1   \n",
       "\n",
       "   model4  comp1  comp2  comp3  comp4  total_failure  \n",
       "0       0    0.0    0.0    0.0    0.0            0.0  \n",
       "1       0    0.0    0.0    0.0    0.0            0.0  \n",
       "2       0    0.0    0.0    0.0    0.0            0.0  \n",
       "3       0    0.0    0.0    0.0    1.0            1.0  \n",
       "4       0    0.0    0.0    0.0    0.0            0.0  \n",
       "\n",
       "[5 rows x 31 columns]"
      ]
     },
     "execution_count": 2,
     "metadata": {},
     "output_type": "execute_result"
    }
   ],
   "source": [
    "df = pd.read_csv(\"../../data/prepared_data/dataset.csv\")\n",
    "df.head()"
   ]
  },
  {
   "cell_type": "code",
   "execution_count": 3,
   "metadata": {},
   "outputs": [],
   "source": [
    "models = df[\"model\"]"
   ]
  },
  {
   "cell_type": "code",
   "execution_count": 4,
   "metadata": {},
   "outputs": [],
   "source": [
    "# Labels à prédire\n",
    "labels_cols = [col for col in df.columns if re.match(\"comp[1-4]$\",col)]\n",
    "Y = df[labels_cols]\n",
    "\n",
    "# Features\n",
    "drop_cols = labels_cols+[\"machineID\", \"datetime\",\"total_failure\",\"total_error\",\"model\"]\n",
    "X = df.drop(columns=drop_cols)\n"
   ]
  },
  {
   "cell_type": "markdown",
   "metadata": {},
   "source": [
    "### Corrélation des colonnes sur les erreurs"
   ]
  },
  {
   "cell_type": "code",
   "execution_count": 5,
   "metadata": {},
   "outputs": [
    {
     "name": "stdout",
     "output_type": "stream",
     "text": [
      "['error1', 'error2', 'error3', 'error4', 'error5']\n"
     ]
    },
    {
     "data": {
      "text/plain": [
       "<AxesSubplot:>"
      ]
     },
     "execution_count": 5,
     "metadata": {},
     "output_type": "execute_result"
    },
    {
     "data": {
      "image/png": "[encoded data removed]",
      "text/plain": [
       "<Figure size 432x288 with 2 Axes>"
      ]
     },
     "metadata": {
      "needs_background": "light"
     },
     "output_type": "display_data"
    }
   ],
   "source": [
    "err_cols = [col for col in X.columns if re.match(\".*error.*\",col)]\n",
    "print(err_cols)\n",
    "import seaborn as sns\n",
    "sns.heatmap(X[err_cols].corr(),annot=True,fmt=\".2f\")"
   ]
  },
  {
   "cell_type": "markdown",
   "metadata": {},
   "source": [
    "### Entrainement du modèle"
   ]
  },
  {
   "cell_type": "code",
   "execution_count": 6,
   "metadata": {},
   "outputs": [
    {
     "data": {
      "text/plain": [
       "MultiOutputClassifier(estimator=RandomForestClassifier(random_state=1))"
      ]
     },
     "execution_count": 6,
     "metadata": {},
     "output_type": "execute_result"
    }
   ],
   "source": [
    "from sklearn.multioutput import MultiOutputClassifier\n",
    "from sklearn.ensemble import RandomForestClassifier\n",
    "from sklearn.model_selection import train_test_split\n",
    "\n",
    "X_train, X_test, Y_train, Y_test = train_test_split(X, Y, test_size=0.5, random_state=42)\n",
    "\n",
    "forest = RandomForestClassifier(random_state=1)\n",
    "multi_target_forest = MultiOutputClassifier(forest)\n",
    "multi_target_forest.fit(X_train, Y_train)"
   ]
  },
  {
   "cell_type": "markdown",
   "metadata": {},
   "source": [
    "### Evaluation du modèle"
   ]
  },
  {
   "cell_type": "code",
   "execution_count": 7,
   "metadata": {},
   "outputs": [],
   "source": [
    "Y_pred = multi_target_forest.predict_proba(X_test)"
   ]
  },
  {
   "cell_type": "code",
   "execution_count": 9,
   "metadata": {},
   "outputs": [],
   "source": [
    "import numpy as np\n",
    "from sklearn import metrics\n",
    "proba_select = np.arange(0,1,0.05)\n",
    "\n",
    "confusion_matrix_1=[]\n",
    "confusion_matrix_2=[]\n",
    "confusion_matrix_3=[]\n",
    "confusion_matrix_4=[]\n",
    "\n",
    "for ps in proba_select:\n",
    "    confusion_matrix_1.append(metrics.confusion_matrix(Y_test[\"comp1\"],(Y_pred[0][:,1]>ps).astype(int)))\n",
    "    confusion_matrix_2.append(metrics.confusion_matrix(Y_test[\"comp2\"],(Y_pred[1][:,1]>ps).astype(int)))\n",
    "    confusion_matrix_3.append(metrics.confusion_matrix(Y_test[\"comp3\"],(Y_pred[2][:,1]>ps).astype(int)))\n",
    "    confusion_matrix_4.append(metrics.confusion_matrix(Y_test[\"comp4\"],(Y_pred[3][:,1]>ps).astype(int)))"
   ]
  },
  {
   "cell_type": "code",
   "execution_count": 10,
   "metadata": {},
   "outputs": [
    {
     "name": "stderr",
     "output_type": "stream",
     "text": [
      "<ipython-input-10-4f5882bc49d5>:2: RuntimeWarning: invalid value encountered in longlong_scalars\n",
      "  false_neg_rates1 = [c[0,1]/(c[0,1]+c[1,1]) for c in confusion_matrix_1]\n",
      "<ipython-input-10-4f5882bc49d5>:5: RuntimeWarning: invalid value encountered in longlong_scalars\n",
      "  false_neg_rates2 = [c[0,1]/(c[0,1]+c[1,1]) for c in confusion_matrix_2]\n"
     ]
    }
   ],
   "source": [
    "false_pos_rates1 = [c[1,0]/(c[1,0]+c[1,1]) for c in confusion_matrix_1]\n",
    "false_neg_rates1 = [c[0,1]/(c[0,1]+c[1,1]) for c in confusion_matrix_1]\n",
    "\n",
    "false_pos_rates2 = [c[1,0]/(c[1,0]+c[1,1]) for c in confusion_matrix_2]\n",
    "false_neg_rates2 = [c[0,1]/(c[0,1]+c[1,1]) for c in confusion_matrix_2]"
   ]
  },
  {
   "cell_type": "code",
   "execution_count": 11,
   "metadata": {},
   "outputs": [
    {
     "data": {
      "text/plain": [
       "[<matplotlib.lines.Line2D at 0x10a87dda250>]"
      ]
     },
     "execution_count": 11,
     "metadata": {},
     "output_type": "execute_result"
    },
    {
     "data": {
      "image/png": "[encoded data removed]",
      "text/plain": [
       "<Figure size 432x288 with 1 Axes>"
      ]
     },
     "metadata": {
      "needs_background": "light"
     },
     "output_type": "display_data"
    }
   ],
   "source": [
    "import matplotlib.pyplot as plt\n",
    "plt.plot(proba_select,false_pos_rates1)\n",
    "plt.plot(proba_select,false_neg_rates1)"
   ]
  },
  {
   "cell_type": "code",
   "execution_count": 12,
   "metadata": {},
   "outputs": [
    {
     "data": {
      "text/plain": [
       "[<matplotlib.lines.Line2D at 0x10a87e2f280>]"
      ]
     },
     "execution_count": 12,
     "metadata": {},
     "output_type": "execute_result"
    },
    {
     "data": {
      "image/png": "[encoded data removed]",
      "text/plain": [
       "<Figure size 432x288 with 1 Axes>"
      ]
     },
     "metadata": {
      "needs_background": "light"
     },
     "output_type": "display_data"
    }
   ],
   "source": [
    "plt.plot(proba_select,false_pos_rates2)\n",
    "plt.plot(proba_select,false_neg_rates2)"
   ]
  },
  {
   "cell_type": "code",
   "execution_count": 13,
   "metadata": {},
   "outputs": [],
   "source": [
    "from sklearn import metrics\n",
    "\n",
    "fpr1, tpr1, thresholds1 = metrics.roc_curve(Y_test[\"comp1\"],Y_pred[0][:,1])\n",
    "fpr2, tpr2, thresholds2 = metrics.roc_curve(Y_test[\"comp2\"],Y_pred[1][:,1])\n",
    "fpr3, tpr3, thresholds3 = metrics.roc_curve(Y_test[\"comp3\"],Y_pred[2][:,1])\n",
    "fpr4, tpr4, thresholds4 = metrics.roc_curve(Y_test[\"comp4\"],Y_pred[3][:,1])"
   ]
  },
  {
   "cell_type": "code",
   "execution_count": 14,
   "metadata": {},
   "outputs": [
    {
     "data": {
      "image/png": "[encoded data removed]",
      "text/plain": [
       "<Figure size 432x288 with 1 Axes>"
      ]
     },
     "metadata": {
      "needs_background": "light"
     },
     "output_type": "display_data"
    }
   ],
   "source": [
    "roc_display = metrics.RocCurveDisplay(fpr=fpr1, tpr=tpr1).plot()"
   ]
  },
  {
   "cell_type": "code",
   "execution_count": 16,
   "metadata": {},
   "outputs": [
    {
     "name": "stdout",
     "output_type": "stream",
     "text": [
      "[[18159     3]\n",
      " [   49    39]]\n",
      "[[18094    18]\n",
      " [   41    97]]\n",
      "[[18176     5]\n",
      " [   50    19]]\n",
      "[[18153     6]\n",
      " [   23    68]]\n"
     ]
    }
   ],
   "source": [
    "Y_pred = multi_target_forest.predict(X_test)\n",
    "\n",
    "from sklearn import metrics\n",
    "\n",
    "print(metrics.confusion_matrix(Y_test[\"comp1\"],(Y_pred[:,0]).astype(int)))\n",
    "print(metrics.confusion_matrix(Y_test[\"comp2\"],Y_pred[:,1]))\n",
    "print(metrics.confusion_matrix(Y_test[\"comp3\"],Y_pred[:,2]))\n",
    "print(metrics.confusion_matrix(Y_test[\"comp4\"],Y_pred[:,3]))"
   ]
  },
  {
   "cell_type": "code",
   "execution_count": 29,
   "metadata": {},
   "outputs": [
    {
     "data": {
      "text/plain": [
       "array([2.  , 1.  , 0.99, 0.98, 0.97, 0.96, 0.95, 0.94, 0.93, 0.92, 0.91,\n",
       "       0.9 , 0.89, 0.88, 0.87, 0.86, 0.85, 0.84, 0.83, 0.82, 0.81, 0.8 ,\n",
       "       0.79, 0.78, 0.77, 0.76, 0.75, 0.74, 0.73, 0.72, 0.71, 0.7 , 0.69,\n",
       "       0.68, 0.67, 0.66, 0.65, 0.64, 0.63, 0.62, 0.61, 0.6 , 0.59, 0.58,\n",
       "       0.57, 0.56, 0.55, 0.54, 0.53, 0.52, 0.51, 0.49, 0.48, 0.47, 0.46,\n",
       "       0.45, 0.44, 0.43, 0.42, 0.41, 0.4 , 0.39, 0.38, 0.37, 0.36, 0.35,\n",
       "       0.34, 0.33, 0.32, 0.31, 0.3 , 0.29, 0.28, 0.27, 0.26, 0.25, 0.24,\n",
       "       0.23, 0.21, 0.2 , 0.19, 0.18, 0.17, 0.16, 0.15, 0.14, 0.13, 0.12,\n",
       "       0.11, 0.1 , 0.09, 0.08, 0.06, 0.05, 0.04, 0.03, 0.02, 0.  ])"
      ]
     },
     "execution_count": 29,
     "metadata": {},
     "output_type": "execute_result"
    }
   ],
   "source": [
    "thresholds1"
   ]
  },
  {
   "cell_type": "code",
   "execution_count": 41,
   "metadata": {},
   "outputs": [
    {
     "data": {
      "text/plain": [
       "array([0, 0, 0, ..., 0, 0, 0])"
      ]
     },
     "execution_count": 41,
     "metadata": {},
     "output_type": "execute_result"
    }
   ],
   "source": [
    "(Y_pred[0][:,1]>0.5).astype(int)"
   ]
  },
  {
   "cell_type": "code",
   "execution_count": 31,
   "metadata": {},
   "outputs": [
    {
     "data": {
      "text/plain": [
       "array([0.        , 0.95913998, 0.9828023 , 0.98895712, 0.99166277,\n",
       "       0.99356291, 0.99463691, 0.99532537, 0.99591056, 0.99626167,\n",
       "       0.99657836, 0.99688817, 0.9970534 , 0.99725993, 0.99748713,\n",
       "       0.9976317 , 0.99781759, 0.9979897 , 0.9981687 , 0.99829262,\n",
       "       0.99845785, 0.99860931, 0.9987057 , 0.99880897, 0.998926  ,\n",
       "       0.99902239, 0.99909123, 0.99918073, 0.99926335, 0.99931843,\n",
       "       0.99938039, 0.99940104, 0.99944235, 0.99950431, 0.99953185,\n",
       "       0.99955939, 0.99957316, 0.99960069, 0.99962135, 0.99966266,\n",
       "       0.99969708, 0.9997315 , 0.99974527, 0.99975904, 0.99977281,\n",
       "       0.99978658, 0.99979346, 0.99981412, 0.99982789, 0.99983477,\n",
       "       0.99983477, 0.99984854, 0.99985542, 0.99985542, 0.99986231,\n",
       "       0.99986231, 0.99988296, 0.99988985, 0.99988985, 0.99988985,\n",
       "       0.99989673, 0.9999105 , 0.99992427, 0.99992427, 0.99992427,\n",
       "       0.99993115, 0.99993804, 0.99993804, 0.99994492, 0.99994492,\n",
       "       0.99994492, 0.99995181, 0.99995869, 0.99997246, 0.99997935,\n",
       "       0.99997935, 0.99997935, 0.99998623, 0.99998623, 0.99998623,\n",
       "       0.99999312, 0.99999312, 0.99999312, 0.99999312, 0.99999312,\n",
       "       1.        , 1.        , 1.        , 1.        , 1.        ,\n",
       "       1.        , 1.        , 1.        , 1.        , 1.        ,\n",
       "       1.        , 1.        , 1.        ])"
      ]
     },
     "execution_count": 31,
     "metadata": {},
     "output_type": "execute_result"
    }
   ],
   "source": [
    "tpr1"
   ]
  },
  {
   "cell_type": "code",
   "execution_count": 34,
   "metadata": {},
   "outputs": [
    {
     "name": "stdout",
     "output_type": "stream",
     "text": [
      "0\n"
     ]
    }
   ],
   "source": [
    "for  i in range(0,1,20):\n",
    "    print(i)"
   ]
  },
  {
   "cell_type": "code",
   "execution_count": null,
   "metadata": {},
   "outputs": [],
   "source": []
  }
 ],
 "metadata": {
  "kernelspec": {
   "display_name": "Python 3",
   "language": "python",
   "name": "python3"
  },
  "language_info": {
   "codemirror_mode": {
    "name": "ipython",
    "version": 3
   },
   "file_extension": ".py",
   "mimetype": "text/x-python",
   "name": "python",
   "nbconvert_exporter": "python",
   "pygments_lexer": "ipython3",
   "version": "3.8.8"
  }
 },
 "nbformat": 4,
 "nbformat_minor": 4
}
